{
 "cells": [
  {
   "cell_type": "markdown",
   "metadata": {},
   "source": [
    "# **The Battle of Neighborhoods - Report**"
   ]
  },
  {
   "cell_type": "markdown",
   "metadata": {},
   "source": [
    "## **Introduction**"
   ]
  },
  {
   "cell_type": "markdown",
   "metadata": {},
   "source": [
    "New York City is the most populous city in the United States and is among the main commercial, financial and cultural centers in the world. It has 5 boroughs and 306 neighborhoods. It is a point of great cultural diversity with people from all over the world. Therefore is a city with a lot to offer in terms of food establishments both in number and type of cuisine. However is also a very competitive city."
   ]
  },
  {
   "cell_type": "markdown",
   "metadata": {},
   "source": [
    "### Business Problem"
   ]
  },
  {
   "cell_type": "markdown",
   "metadata": {},
   "source": [
    "A client wants to open an ice cream shop in New York City. It is very important for the sucess of the business to choose a good location. Open this shop in a local where there are already a lot of ice cream shops would be very risky.  Another important point is to choose a place with a high flux of potential clients. The best places would be recreation places such as parks or playgrounds.  \n",
    "This project aims to predict the best neighboorhood New York City to open an ice cream shop accordingly with the criteria defined above. This would help any person interested in open this kind of business.\n"
   ]
  },
  {
   "cell_type": "markdown",
   "metadata": {},
   "source": [
    "## **Data**"
   ]
  },
  {
   "cell_type": "markdown",
   "metadata": {},
   "source": [
    "Foursquare is a data location platform. The Foursquare API allows to search for venues around a defined location. It allows to explore the venues around a specific location such as restaurants, gyms and schools. In this project, the Foursquare API will be used to survey the ice cream shops in the city and to explore the locations which also offer recreation places.  \n",
    "\n",
    "To use the Foursquare API we need to have the geographical coordinates of the place to explore. The link https://geo.nyu.edu/catalog/nyu_2451_34572 cointains a dataset with latitude and longitude coordinates of each of the 306 neighborhoods the 5 boroughs of New York City.\n",
    "\n",
    "Combining this data is possible to obtain the venues for a specific neighborhood, for example. The table bellow shows an example for the neighborhood Wakefield, where it can be seen 5 venues found using the coordinates given by the mentioned dataset and the Foursquare API. In total 9826 venues were found by Foursquare API.\n",
    "\n",
    "![dataset_initial.JPG](imgs/dataset_initial.JPG)"
   ]
  },
  {
   "cell_type": "markdown",
   "metadata": {},
   "source": [
    "## **Methodology**"
   ]
  },
  {
   "cell_type": "markdown",
   "metadata": {},
   "source": [
    "The Foursquare API was used to obtain 100 venues per each neighborhood of the city within a radius of 500 meters from the neighborhood center. The neighborhood geographical coordinates were obtained from the latitude and longitude coordinates dataset for the city.  \n",
    "The venues categories were evaluated to find the words used to define the places of interest. The categories are \"Ice Cream Shop\", \"Park\" and \"Playground\". Venues that do not fall within these categories have been excluded. In total, there are 387 venues which are playgrounds, parks or ice cream shops.\n",
    "\n",
    "![dataset_filtered.JPG](imgs/dataset_filtered.JPG)\n",
    "\n",
    "The venues categories were one hot encoded and were grouped by neighborhood. This allows to select neighborhoods with more of one of the chosen categories, for example. Then average of venues of a category was also calculated.\n",
    "\n",
    "![grouped_neighborhood.JPG](imgs/grouped_neighborhood.JPG)\n",
    "\n",
    "The next step was to exclude the neighborhoods that already have an ice cream shop. The neighborhoods of interest are those who do not have any ice cream shop yet.\n",
    "\n",
    "![remove_ice_cream_column.JPG](imgs/remove_ice_cream_column.JPG)\n",
    "\n",
    "After the dataframe cleaning we get the neighborhoods of New York City which do not have any Ice Cream Shop but have a park or a playground, or both. There are 91 neighborhoods with these conditions.\n",
    "The neighborhoods can be clustered in 3 ways accordingly with the current problem: neighborhoods with park, neighborhoods with playgrounds or neighborhoods with both. A k-means algorithm to do this clustering and the results were plotted in the city map.\n"
   ]
  },
  {
   "cell_type": "markdown",
   "metadata": {},
   "source": [
    "## **Results**"
   ]
  },
  {
   "cell_type": "markdown",
   "metadata": {},
   "source": [
    "Map with the selected neighborhoods after applying the clustering method.\n",
    "\n",
    "![cluster_map.JPG](imgs/cluster_map.JPG)"
   ]
  },
  {
   "cell_type": "markdown",
   "metadata": {},
   "source": [
    "Cluster 0 (turquoise)  \n",
    "There are 48 neighborhoods with parks but without playgrounds. Table below shows 5 examples.\n",
    "\n",
    "![Cluster_0.JPG](imgs/Cluster_0.JPG)\n"
   ]
  },
  {
   "cell_type": "markdown",
   "metadata": {},
   "source": [
    "Cluster 1 (blue)  \n",
    "There are 24 neighborhoods with playgrounds but without parks. Table below shows 5 examples.\n",
    "\n",
    "![Cluster_1.JPG](imgs/Cluster_1.JPG)\n"
   ]
  },
  {
   "cell_type": "markdown",
   "metadata": {},
   "source": [
    "**Cluster 2 (red)**  \n",
    "There are 19 neighborhoods with parks and playgrounds.\n",
    "\n",
    "![Cluster_2.JPG](imgs/Cluster_2.JPG)\n"
   ]
  },
  {
   "cell_type": "markdown",
   "metadata": {},
   "source": [
    "## **Discussion**"
   ]
  },
  {
   "cell_type": "markdown",
   "metadata": {},
   "source": [
    "The selected neighborhoods were clustered correctly in 3 clusters accordingly with the expected division. The ones with more interest are those which have both parks and playgrounds, which are represented in red in the map. Manhattan seems to be the borough with more neighborhoods with the selected characteristics."
   ]
  },
  {
   "cell_type": "markdown",
   "metadata": {},
   "source": [
    "## **Conclusion**"
   ]
  },
  {
   "cell_type": "markdown",
   "metadata": {},
   "source": [
    "Accordingly with the data provided by the Foursquare APi and https://geo.nyu.edu/catalog/nyu_2451_34572, there are **19 neighborhoods** in New York City where an ice cream shop can be open. The criteria was the selection of neighborhoods without an ice cream shop but that have recreation places such as parks or playgrounds. Further studies can be done to restrict even more this number, such as, excluding places with desserts shops already or selecting the neighborhoods not only by having or not the recreation places but also by the amount of these places."
   ]
  },
  {
   "cell_type": "code",
   "execution_count": null,
   "metadata": {},
   "outputs": [],
   "source": []
  }
 ],
 "metadata": {
  "kernelspec": {
   "display_name": "Python",
   "language": "python",
   "name": "conda-env-python-py"
  },
  "language_info": {
   "codemirror_mode": {
    "name": "ipython",
    "version": 3
   },
   "file_extension": ".py",
   "mimetype": "text/x-python",
   "name": "python",
   "nbconvert_exporter": "python",
   "pygments_lexer": "ipython3",
   "version": "3.6.10"
  }
 },
 "nbformat": 4,
 "nbformat_minor": 4
}
