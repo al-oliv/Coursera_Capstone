{
 "cells": [
  {
   "cell_type": "markdown",
   "metadata": {},
   "source": [
    "# **The Battle of Neighborhoods - Part I**"
   ]
  },
  {
   "cell_type": "markdown",
   "metadata": {},
   "source": [
    "## **Introduction**"
   ]
  },
  {
   "cell_type": "markdown",
   "metadata": {},
   "source": [
    "New York City is the most populous city in the United States and is among the main commercial, financial and cultural centers in the world. It has 5 boroughs and 306 neighborhoods. It is a point of great cultural diversity with people from all over the world. Therefore is a city with a lot to offer in terms of food establishments both in number and type of cuisine. However is also a very competitive city."
   ]
  },
  {
   "cell_type": "markdown",
   "metadata": {},
   "source": [
    "### Business Problem"
   ]
  },
  {
   "cell_type": "markdown",
   "metadata": {},
   "source": [
    "A client wants to open an ice cream shop in New York City. It is very important for the sucess of the business to choose a good location. Open this shop in a local where there are already a lot of ice cream shops would be very risky.  Another important point is to choose a place with a high flux of potential clients. The best places would be recreation places such as parks or playgrounds.  \n",
    "This project aims to predict the best neighboorhood New York City to open an ice cream shop accordingly with the criteria defined above. This would help any person interested in open this kind of business.\n"
   ]
  },
  {
   "cell_type": "markdown",
   "metadata": {},
   "source": [
    "## **Data**"
   ]
  },
  {
   "attachments": {
    "example.JPG": {
     "image/jpeg": "example.JPG"
    }
   },
   "cell_type": "markdown",
   "metadata": {},
   "source": [
    "Foursquare is a data location platform. The Foursquare API allows to search for venues around a defined location. It alows to explore the venues around a specific location such as restaurants, gyms and schools. In this project, the Foursquare API will be used to survey the ice cream shops in the city and to explore the locations which also offer recreation places.  \n",
    "\n",
    "To use the Foursquare API we need to have the geographical coordinates of the place to explore. The link https://geo.nyu.edu/catalog/nyu_2451_34572 is adataset with the coordinates of each neighboorhood of each borough of New York City.\n",
    "\n",
    "Combining this data is possible to obtain the venues for a specific neighboorhood, for example. The table bellow shows an example for the neighboorhood Marble Hill of Manhattan, where it can be seen 5 venues found using the coordinates given by the mentioned dataset and the Foursquare API.\n",
    "\n",
    "![example.JPG](example.JPG)"
   ]
  },
  {
   "cell_type": "code",
   "execution_count": null,
   "metadata": {},
   "outputs": [],
   "source": []
  }
 ],
 "metadata": {
  "kernelspec": {
   "display_name": "Python",
   "language": "python",
   "name": "conda-env-python-py"
  },
  "language_info": {
   "codemirror_mode": {
    "name": "ipython",
    "version": 3
   },
   "file_extension": ".py",
   "mimetype": "text/x-python",
   "name": "python",
   "nbconvert_exporter": "python",
   "pygments_lexer": "ipython3",
   "version": "3.6.10"
  }
 },
 "nbformat": 4,
 "nbformat_minor": 4
}
